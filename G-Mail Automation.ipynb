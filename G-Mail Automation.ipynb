def hello_pubsub(event, context): 
    try:
        
        import base64
        import tempfile
        import pandas as pd
        import pandas_gbq as pg

        import datetime as dt
        from time import sleep
        import time

        from datetime import date, timedelta

        import smtplib
        from email.mime.text import MIMEText
        from email.mime.application import MIMEApplication
        from email.mime.multipart import MIMEMultipart
        from google.cloud import storage
        from smtplib import SMTP

        import requests
        import io
        import json
        
        tmpdir = tempfile.gettempdir()
        
        todaytime = date.today()
        date = todaytime.strftime("%Y-%m-%d")
        date1 = date
        month = todaytime.strftime("%Y-%m")
        date = str(date)

        from datetime import date,timedelta

        today = date.today()
        date_to = date.today()
        date_from = today - timedelta(days = 20)

        query = """SELECT 
        sku 
        FROM (
        SELECT entity_id, DATE(created_at) AS Date, sku FROM
        `Project_id.Data_set.Table_name` ) AS a
        LEFT JOIN (
        SELECT
        value AS discription,
        row_id
        FROM
        `Project_id.Data_set.Table_name`
        WHERE
        attribute_id = 73 ) AS b
        ON
        a.entity_id = b.row_id
        LEFT JOIN (
        SELECT
        sku AS skuu,
        islive
        FROM
        `Project_id.Data_set.Table_name`) c
        ON
        a.sku = c.skuu
        WHERE
        (discription IS NULL
        OR discription = "")
        AND islive = 1 group by 1"""

        df_discription = pg.read_gbq(query)
        df_discriptionn = df_discription.style.hide(axis="index")
        xlsx_file = f"{tmpdir}/Description_Null_SKUs.xlsx"
        df_discriptionn.to_excel(xlsx_file)


        dff = len(df_discription)
        dff = str(dff)

        #########################################################################################
        
        # "Description_Null_SKUs.xlsx"
        bucket_name = "xyz_daily_updates"

        storage_client = storage.Client()
        bucket = storage_client.get_bucket(bucket_name)
        blob = bucket.blob(xlsx_file)
        blob.upload_from_filename(xlsx_file)
        print("Bucket Updated")



        #########################################################################################

        #mailer strings of date formats
        sub='List of SKUs With No Description'

        username = 'mohdmaazekram@gmail.com'
        password = 'xyz'



        # recipients 
        recipients = ['data@team.com','marketing@team.com','branding@team.com']

        emaillist = [elem.strip().split(',') for elem in recipients]
        msg = MIMEMultipart()
        msg['Subject'] = sub
        msg['From'] = 'mohdmaazekram@gmail.com'

        SKU_Count = dff
        link = '<a href="https://storage.googleapis.com/xyz_daily_updates//tmp/Description_Null_SKUs.xlsx">here</a>'



        # Email HTML content
        html = f"""
        <html>
        <h4> Hi Team, <br></br>
        Please find below the SKUs with no description on our website <br></br>
        <br></br>
        <br></br>
        Number of sku's: {SKU_Count} 
        <br></br>
        List of sku's: {link} </h4>
        <p></p>
        <br></br>
        </html>
        """
        part1 = MIMEText(html, 'html')
        msg.attach(part1)

        try:
            server = smtplib.SMTP('smtp.gmail.com', 587)
            server.ehlo()
            server.starttls()
            server.ehlo()
            server.login('mohdmaazekram@gmail.com', 'xyz')
            server.sendmail(msg['From'], emaillist, msg.as_string())
            server.close()
            print("Success: Email Sent!!!")
            print('Mail sent to', recipients)
        except Exception as e:
            print("Error:", e)
    except Exception as een:
        print("Error1:", een)