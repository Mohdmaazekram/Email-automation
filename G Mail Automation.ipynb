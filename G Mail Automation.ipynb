{
 "cells": [
  {
   "cell_type": "code",
   "execution_count": 1,
   "id": "6b808039",
   "metadata": {},
   "outputs": [],
   "source": [
    "import imaplib\n",
    "import email\n",
    "import yaml"
   ]
  },
  {
   "cell_type": "code",
   "execution_count": 2,
   "id": "381a91c0",
   "metadata": {},
   "outputs": [],
   "source": [
    "with open(r\"C:\\Users\\Maaz Shaikh\\Downloads\\credentials.yml\") as f:\n",
    "    content = f.read()"
   ]
  },
  {
   "cell_type": "code",
   "execution_count": 3,
   "id": "21bfac7d",
   "metadata": {},
   "outputs": [],
   "source": [
    "my_credentials = yaml.load(content, Loader=yaml.FullLoader)"
   ]
  },
  {
   "cell_type": "code",
   "execution_count": 4,
   "id": "e81c7ee5",
   "metadata": {},
   "outputs": [
    {
     "data": {
      "text/plain": [
       "{'user': 'maaz.ekram@candere.com', 'password': 'python123'}"
      ]
     },
     "execution_count": 4,
     "metadata": {},
     "output_type": "execute_result"
    }
   ],
   "source": [
    "my_credentials"
   ]
  },
  {
   "cell_type": "code",
   "execution_count": 5,
   "id": "7627b6c8",
   "metadata": {},
   "outputs": [],
   "source": [
    "user, password = my_credentials[\"user\"], my_credentials[\"password\"]"
   ]
  },
  {
   "cell_type": "code",
   "execution_count": 6,
   "id": "e05390a7",
   "metadata": {},
   "outputs": [],
   "source": [
    "imap_url = 'imap.gmail.com'"
   ]
  },
  {
   "cell_type": "code",
   "execution_count": 7,
   "id": "8f157c7b",
   "metadata": {},
   "outputs": [],
   "source": [
    "my_mail = imaplib.IMAP4_SSL(imap_url)"
   ]
  },
  {
   "cell_type": "code",
   "execution_count": 8,
   "id": "e7cf99be",
   "metadata": {},
   "outputs": [
    {
     "ename": "error",
     "evalue": "b'[AUTHENTICATIONFAILED] Invalid credentials (Failure)'",
     "output_type": "error",
     "traceback": [
      "\u001b[1;31m---------------------------------------------------------------------------\u001b[0m",
      "\u001b[1;31merror\u001b[0m                                     Traceback (most recent call last)",
      "Cell \u001b[1;32mIn[8], line 1\u001b[0m\n\u001b[1;32m----> 1\u001b[0m my_mail\u001b[38;5;241m.\u001b[39mlogin(user,password)\n",
      "File \u001b[1;32m~\\anaconda3\\Lib\\imaplib.py:612\u001b[0m, in \u001b[0;36mIMAP4.login\u001b[1;34m(self, user, password)\u001b[0m\n\u001b[0;32m    610\u001b[0m typ, dat \u001b[38;5;241m=\u001b[39m \u001b[38;5;28mself\u001b[39m\u001b[38;5;241m.\u001b[39m_simple_command(\u001b[38;5;124m'\u001b[39m\u001b[38;5;124mLOGIN\u001b[39m\u001b[38;5;124m'\u001b[39m, user, \u001b[38;5;28mself\u001b[39m\u001b[38;5;241m.\u001b[39m_quote(password))\n\u001b[0;32m    611\u001b[0m \u001b[38;5;28;01mif\u001b[39;00m typ \u001b[38;5;241m!=\u001b[39m \u001b[38;5;124m'\u001b[39m\u001b[38;5;124mOK\u001b[39m\u001b[38;5;124m'\u001b[39m:\n\u001b[1;32m--> 612\u001b[0m     \u001b[38;5;28;01mraise\u001b[39;00m \u001b[38;5;28mself\u001b[39m\u001b[38;5;241m.\u001b[39merror(dat[\u001b[38;5;241m-\u001b[39m\u001b[38;5;241m1\u001b[39m])\n\u001b[0;32m    613\u001b[0m \u001b[38;5;28mself\u001b[39m\u001b[38;5;241m.\u001b[39mstate \u001b[38;5;241m=\u001b[39m \u001b[38;5;124m'\u001b[39m\u001b[38;5;124mAUTH\u001b[39m\u001b[38;5;124m'\u001b[39m\n\u001b[0;32m    614\u001b[0m \u001b[38;5;28;01mreturn\u001b[39;00m typ, dat\n",
      "\u001b[1;31merror\u001b[0m: b'[AUTHENTICATIONFAILED] Invalid credentials (Failure)'"
     ]
    }
   ],
   "source": [
    "my_mail.login(user,password)"
   ]
  },
  {
   "cell_type": "code",
   "execution_count": null,
   "id": "8fe1986a",
   "metadata": {},
   "outputs": [],
   "source": [
    "# # Importing libraries\n",
    "# import imaplib, email\n",
    "\n",
    "# user = 'maaz.ekram@gmail.com'\n",
    "# password = 'maazekram123'\n",
    "# imap_url = 'imap.gmail.com'\n",
    "\n",
    "# # Function to get email content part i.e its body part\n",
    "# def get_body(msg):\n",
    "#     if msg.is_multipart():\n",
    "#         return get_body(msg.get_payload(0))\n",
    "#     else:\n",
    "#         return msg.get_payload(None, True)\n",
    "\n",
    "# # Function to search for a key value pair \n",
    "# def search(key, value, con): \n",
    "#     result, data = con.search(None, key, '\"{}\"'.format(value))\n",
    "#     return data\n",
    "\n",
    "# # Function to get the list of emails under this label\n",
    "# def get_emails(result_bytes):\n",
    "#     msgs = [] # all the email data are pushed inside an array\n",
    "#     for num in result_bytes[0].split():\n",
    "#         typ, data = con.fetch(num, '(RFC822)')\n",
    "#         msgs.append(data)\n",
    "\n",
    "#     return msgs\n",
    "\n",
    "# # this is done to make SSL connection with GMAIL\n",
    "# con = imaplib.IMAP4_SSL(imap_url) \n",
    "\n",
    "# # logging the user in\n",
    "# con.login(user, password) \n",
    "\n",
    "# # calling function to check for email under this label\n",
    "# con.select('Inbox') \n",
    "\n",
    "# # fetching emails from this user \"tu**h*****1@gmail.com\"\n",
    "# msgs = get_emails(search('FROM', 'maaz.ekram@candere.com', con))\n",
    "\n",
    "# # Uncomment this to see what actually comes as data \n",
    "# # print(msgs) \n",
    "\n",
    "\n",
    "# # Finding the required content from our msgs\n",
    "# # User can make custom changes in this part to\n",
    "# # fetch the required content he / she needs\n",
    "\n",
    "# # printing them by the order they are displayed in your gmail \n",
    "# for msg in msgs[::-1]: \n",
    "#     for sent in msg:\n",
    "#         if type(sent) is tuple: \n",
    "\n",
    "#             # encoding set as utf-8\n",
    "#             content = str(sent[1], 'utf-8') \n",
    "#             data = str(content)\n",
    "\n",
    "#             # Handling errors related to unicodenecode\n",
    "#             try: \n",
    "                \n",
    "#                 indexstart = data.find(\"ltr\")\n",
    "#                 data2 = data[indexstart + 5: len(data)]\n",
    "#                 indexend = data2.find(\"</div>\")\n",
    "\n",
    "#                 # printing the required content which we need\n",
    "#                 # to extract from our email i.e our body\n",
    "#                 print(data2[0: indexend])\n",
    "\n",
    "#             except UnicodeEncodeError as e:\n",
    "#                 pass"
   ]
  },
  {
   "cell_type": "code",
   "execution_count": null,
   "id": "dada58a6",
   "metadata": {},
   "outputs": [],
   "source": []
  },
  {
   "cell_type": "code",
   "execution_count": null,
   "id": "c3c7abb0",
   "metadata": {},
   "outputs": [],
   "source": []
  },
  {
   "cell_type": "code",
   "execution_count": null,
   "id": "bafd9796",
   "metadata": {},
   "outputs": [],
   "source": []
  },
  {
   "cell_type": "code",
   "execution_count": null,
   "id": "5250a856",
   "metadata": {},
   "outputs": [],
   "source": []
  },
  {
   "cell_type": "code",
   "execution_count": null,
   "id": "a313a31a",
   "metadata": {},
   "outputs": [],
   "source": []
  },
  {
   "cell_type": "code",
   "execution_count": null,
   "id": "bd0946be",
   "metadata": {},
   "outputs": [],
   "source": []
  },
  {
   "cell_type": "code",
   "execution_count": null,
   "id": "c8a9ddf3",
   "metadata": {},
   "outputs": [],
   "source": []
  },
  {
   "cell_type": "code",
   "execution_count": null,
   "id": "c3eee4f3",
   "metadata": {},
   "outputs": [],
   "source": []
  },
  {
   "cell_type": "code",
   "execution_count": null,
   "id": "f8d15358",
   "metadata": {},
   "outputs": [],
   "source": []
  },
  {
   "cell_type": "code",
   "execution_count": null,
   "id": "fe234025",
   "metadata": {},
   "outputs": [],
   "source": []
  },
  {
   "cell_type": "code",
   "execution_count": null,
   "id": "f6438c1a",
   "metadata": {},
   "outputs": [],
   "source": []
  },
  {
   "cell_type": "code",
   "execution_count": null,
   "id": "0decdb1f",
   "metadata": {},
   "outputs": [],
   "source": []
  },
  {
   "cell_type": "code",
   "execution_count": null,
   "id": "88d8f6ba",
   "metadata": {},
   "outputs": [],
   "source": []
  },
  {
   "cell_type": "code",
   "execution_count": null,
   "id": "33eea3dc",
   "metadata": {},
   "outputs": [],
   "source": []
  },
  {
   "cell_type": "code",
   "execution_count": null,
   "id": "2782b675",
   "metadata": {},
   "outputs": [],
   "source": []
  },
  {
   "cell_type": "code",
   "execution_count": null,
   "id": "ed45369e",
   "metadata": {},
   "outputs": [],
   "source": []
  },
  {
   "cell_type": "code",
   "execution_count": null,
   "id": "aa62999b",
   "metadata": {},
   "outputs": [],
   "source": []
  },
  {
   "cell_type": "code",
   "execution_count": null,
   "id": "eeab09fe",
   "metadata": {},
   "outputs": [],
   "source": []
  },
  {
   "cell_type": "code",
   "execution_count": null,
   "id": "08c12750",
   "metadata": {},
   "outputs": [],
   "source": []
  },
  {
   "cell_type": "code",
   "execution_count": null,
   "id": "699d7e71",
   "metadata": {},
   "outputs": [],
   "source": []
  },
  {
   "cell_type": "code",
   "execution_count": null,
   "id": "47df8113",
   "metadata": {},
   "outputs": [],
   "source": []
  },
  {
   "cell_type": "code",
   "execution_count": null,
   "id": "67c18a12",
   "metadata": {},
   "outputs": [],
   "source": []
  },
  {
   "cell_type": "code",
   "execution_count": null,
   "id": "fb55f556",
   "metadata": {},
   "outputs": [],
   "source": []
  },
  {
   "cell_type": "code",
   "execution_count": null,
   "id": "f81f091d",
   "metadata": {},
   "outputs": [],
   "source": []
  },
  {
   "cell_type": "code",
   "execution_count": null,
   "id": "dc4aefb6",
   "metadata": {},
   "outputs": [],
   "source": []
  },
  {
   "cell_type": "code",
   "execution_count": null,
   "id": "16e19586",
   "metadata": {},
   "outputs": [],
   "source": []
  },
  {
   "cell_type": "code",
   "execution_count": null,
   "id": "ef0467a0",
   "metadata": {},
   "outputs": [],
   "source": []
  },
  {
   "cell_type": "code",
   "execution_count": null,
   "id": "a8ff844c",
   "metadata": {},
   "outputs": [],
   "source": []
  },
  {
   "cell_type": "code",
   "execution_count": null,
   "id": "55c9f702",
   "metadata": {},
   "outputs": [],
   "source": []
  },
  {
   "cell_type": "code",
   "execution_count": null,
   "id": "bc0f424d",
   "metadata": {},
   "outputs": [],
   "source": []
  },
  {
   "cell_type": "code",
   "execution_count": null,
   "id": "7dc53eae",
   "metadata": {},
   "outputs": [],
   "source": []
  },
  {
   "cell_type": "code",
   "execution_count": null,
   "id": "c9677a06",
   "metadata": {},
   "outputs": [],
   "source": []
  }
 ],
 "metadata": {
  "kernelspec": {
   "display_name": "Python 3 (ipykernel)",
   "language": "python",
   "name": "python3"
  },
  "language_info": {
   "codemirror_mode": {
    "name": "ipython",
    "version": 3
   },
   "file_extension": ".py",
   "mimetype": "text/x-python",
   "name": "python",
   "nbconvert_exporter": "python",
   "pygments_lexer": "ipython3",
   "version": "3.11.4"
  }
 },
 "nbformat": 4,
 "nbformat_minor": 5
}
